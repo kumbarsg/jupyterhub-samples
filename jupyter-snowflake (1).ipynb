{
 "cells": [
  {
   "cell_type": "code",
   "execution_count": null,
   "id": "4bcac2a4-4db1-4deb-833f-374b1cd1c4d5",
   "metadata": {},
   "outputs": [],
   "source": [
    "!pip install pyarrow==10.0.1"
   ]
  },
  {
   "cell_type": "code",
   "execution_count": null,
   "id": "e996d1f4-4b1a-424e-9fd6-9edb6baeba90",
   "metadata": {},
   "outputs": [],
   "source": [
    "!pip install \"snowflake-connector-python[pandas]\""
   ]
  },
  {
   "cell_type": "code",
   "execution_count": 1,
   "id": "440a914a-b8ff-4d2d-9c17-07cc0599f597",
   "metadata": {},
   "outputs": [
    {
     "name": "stderr",
     "output_type": "stream",
     "text": [
      "/home/jupyterhub-admin/.local/lib/python3.9/site-packages/snowflake/connector/options.py:107: UserWarning: You have an incompatible version of 'pyarrow' installed (6.0.1), please install a version that adheres to: 'pyarrow<10.1.0,>=10.0.1; extra == \"pandas\"'\n",
      "  warn_incompatible_dep(\n"
     ]
    }
   ],
   "source": [
    "from snowflake.connector import connect\n",
    "import pandas as pd\n",
    "import matplotlib.pyplot as plt\n",
    "import seaborn as sns\n",
    "import ydata_profiling"
   ]
  },
  {
   "cell_type": "code",
   "execution_count": 2,
   "id": "598cd5c2-7f9f-4073-8694-ffa85d4d5e4d",
   "metadata": {},
   "outputs": [],
   "source": [
    "%store -r url account user password database schema warehouse"
   ]
  },
  {
   "cell_type": "code",
   "execution_count": 3,
   "id": "607f6fad-299a-4a20-b9de-7bf1b8891729",
   "metadata": {},
   "outputs": [],
   "source": [
    "conn = connect(\n",
    "    url = url,\n",
    "    account = \"cda03513\",\n",
    "    user=user,\n",
    "    password=password,\n",
    "    database=database,\n",
    "    schema=schema,\n",
    "    warehouse=warehouse,\n",
    "    autocommit=True\n",
    ")"
   ]
  },
  {
   "cell_type": "code",
   "execution_count": 4,
   "id": "8c48a988-0754-4925-a3b5-d8e6dc0003d5",
   "metadata": {},
   "outputs": [],
   "source": [
    "#Create your query command\n",
    "\n",
    "query = \"SELECT * FROM student_marks\""
   ]
  },
  {
   "cell_type": "code",
   "execution_count": 5,
   "id": "3b2c991b-d44c-4216-bca2-435f2dd2fb93",
   "metadata": {},
   "outputs": [
    {
     "data": {
      "text/plain": [
       "<snowflake.connector.cursor.SnowflakeCursor at 0x7ffb706698e0>"
      ]
     },
     "execution_count": 5,
     "metadata": {},
     "output_type": "execute_result"
    }
   ],
   "source": [
    "#Create the cursor object with your SQL command\n",
    "\n",
    "cursor = conn.cursor()\n",
    "cursor.execute(query)"
   ]
  },
  {
   "cell_type": "code",
   "execution_count": 6,
   "id": "8883e114-9869-4f60-ba5e-a8cc3a46b45e",
   "metadata": {},
   "outputs": [
    {
     "data": {
      "text/plain": [
       "True"
      ]
     },
     "execution_count": 6,
     "metadata": {},
     "output_type": "execute_result"
    }
   ],
   "source": [
    "#Convert output to a dataframe\n",
    "\n",
    "df = cursor.fetch_pandas_all()\n",
    "cursor.close()"
   ]
  },
  {
   "cell_type": "code",
   "execution_count": 7,
   "id": "75a396f6-47d0-4a30-8f8a-b6027374cea0",
   "metadata": {},
   "outputs": [
    {
     "data": {
      "text/html": [
       "<div>\n",
       "<style scoped>\n",
       "    .dataframe tbody tr th:only-of-type {\n",
       "        vertical-align: middle;\n",
       "    }\n",
       "\n",
       "    .dataframe tbody tr th {\n",
       "        vertical-align: top;\n",
       "    }\n",
       "\n",
       "    .dataframe thead th {\n",
       "        text-align: right;\n",
       "    }\n",
       "</style>\n",
       "<table border=\"1\" class=\"dataframe\">\n",
       "  <thead>\n",
       "    <tr style=\"text-align: right;\">\n",
       "      <th></th>\n",
       "      <th>NAME</th>\n",
       "      <th>MATHS</th>\n",
       "      <th>SCIENCE</th>\n",
       "      <th>ENGLISH</th>\n",
       "    </tr>\n",
       "  </thead>\n",
       "  <tbody>\n",
       "    <tr>\n",
       "      <th>0</th>\n",
       "      <td>John</td>\n",
       "      <td>85.0</td>\n",
       "      <td>70.0</td>\n",
       "      <td>90</td>\n",
       "    </tr>\n",
       "    <tr>\n",
       "      <th>1</th>\n",
       "      <td>Emily</td>\n",
       "      <td>95.0</td>\n",
       "      <td>85.0</td>\n",
       "      <td>92</td>\n",
       "    </tr>\n",
       "    <tr>\n",
       "      <th>2</th>\n",
       "      <td>Michael</td>\n",
       "      <td>78.0</td>\n",
       "      <td>80.0</td>\n",
       "      <td>85</td>\n",
       "    </tr>\n",
       "    <tr>\n",
       "      <th>3</th>\n",
       "      <td>Samantha</td>\n",
       "      <td>90.0</td>\n",
       "      <td>88.0</td>\n",
       "      <td>91</td>\n",
       "    </tr>\n",
       "    <tr>\n",
       "      <th>4</th>\n",
       "      <td>Daniel</td>\n",
       "      <td>82.0</td>\n",
       "      <td>90.0</td>\n",
       "      <td>88</td>\n",
       "    </tr>\n",
       "  </tbody>\n",
       "</table>\n",
       "</div>"
      ],
      "text/plain": [
       "       NAME  MATHS  SCIENCE  ENGLISH\n",
       "0      John   85.0     70.0       90\n",
       "1     Emily   95.0     85.0       92\n",
       "2   Michael   78.0     80.0       85\n",
       "3  Samantha   90.0     88.0       91\n",
       "4    Daniel   82.0     90.0       88"
      ]
     },
     "execution_count": 7,
     "metadata": {},
     "output_type": "execute_result"
    }
   ],
   "source": [
    "df.head()"
   ]
  },
  {
   "cell_type": "code",
   "execution_count": 8,
   "id": "26032855-dfe8-4ebb-9356-e7009be348f4",
   "metadata": {},
   "outputs": [
    {
     "data": {
      "text/plain": [
       "Index(['NAME', 'MATHS', 'SCIENCE', 'ENGLISH'], dtype='object')"
      ]
     },
     "execution_count": 8,
     "metadata": {},
     "output_type": "execute_result"
    }
   ],
   "source": [
    "df.columns"
   ]
  },
  {
   "cell_type": "code",
   "execution_count": 9,
   "id": "f034f2ee-06ae-42bc-82c9-d3666533dff9",
   "metadata": {},
   "outputs": [
    {
     "data": {
      "image/png": "[encoded data removed]",
      "text/plain": [
       "<Figure size 432x288 with 1 Axes>"
      ]
     },
     "metadata": {
      "needs_background": "light"
     },
     "output_type": "display_data"
    }
   ],
   "source": [
    "avg_marks = df.iloc[:, 1:].mean()\n",
    "plt.bar(avg_marks.index, avg_marks.values)\n",
    "plt.title('Average Marks')\n",
    "plt.xlabel('Subject')\n",
    "plt.ylabel('Marks')\n",
    "plt.show()"
   ]
  },
  {
   "cell_type": "code",
   "execution_count": 10,
   "id": "1622ee67-4bf1-440f-9689-4650c16725ba",
   "metadata": {},
   "outputs": [
    {
     "name": "stdout",
     "output_type": "stream",
     "text": [
      "Summary Statistics:\n",
      "           MATHS    SCIENCE    ENGLISH\n",
      "count  81.000000  81.000000  83.000000\n",
      "mean   85.518519  84.888889  85.180723\n",
      "std     5.320036   6.160357   9.390115\n",
      "min    75.000000  70.000000  12.000000\n",
      "25%    80.000000  80.000000  84.000000\n",
      "50%    87.000000  88.000000  88.000000\n",
      "75%    90.000000  90.000000  88.000000\n",
      "max    95.000000  92.000000  92.000000\n"
     ]
    }
   ],
   "source": [
    "print('Summary Statistics:')\n",
    "print(df.describe())"
   ]
  },
  {
   "cell_type": "code",
   "execution_count": 11,
   "id": "4743bdbb-dda6-44e5-bbc0-ecbf10e6c71b",
   "metadata": {},
   "outputs": [
    {
     "name": "stdout",
     "output_type": "stream",
     "text": [
      "Descriptive Statistics:\n",
      "           MATHS    SCIENCE    ENGLISH\n",
      "count  81.000000  81.000000  83.000000\n",
      "mean   85.518519  84.888889  85.180723\n",
      "std     5.320036   6.160357   9.390115\n",
      "min    75.000000  70.000000  12.000000\n",
      "25%    80.000000  80.000000  84.000000\n",
      "50%    87.000000  88.000000  88.000000\n",
      "75%    90.000000  90.000000  88.000000\n",
      "max    95.000000  92.000000  92.000000\n"
     ]
    }
   ],
   "source": [
    "# Compute descriptive statistics\n",
    "stats = df.describe()\n",
    "print('Descriptive Statistics:')\n",
    "print(stats)"
   ]
  },
  {
   "cell_type": "code",
   "execution_count": 12,
   "id": "265ed92a-cd2a-4a34-aed8-3adac2c0c00a",
   "metadata": {},
   "outputs": [
    {
     "name": "stdout",
     "output_type": "stream",
     "text": [
      "Data Completeness:\n",
      "NAME       0.000000\n",
      "MATHS      2.409639\n",
      "SCIENCE    2.409639\n",
      "ENGLISH    0.000000\n",
      "dtype: float64\n"
     ]
    }
   ],
   "source": [
    "# Compute data completeness\n",
    "null_counts = df.isnull().sum()\n",
    "null_percentages = null_counts / len(df) * 100\n",
    "print('Data Completeness:')\n",
    "print(null_percentages)"
   ]
  },
  {
   "cell_type": "code",
   "execution_count": 13,
   "id": "d765dc4c-9468-4797-bcb5-c64875972264",
   "metadata": {},
   "outputs": [
    {
     "data": {
      "image/png": "[encoded data removed]",
      "text/plain": [
       "<Figure size 432x288 with 1 Axes>"
      ]
     },
     "metadata": {
      "needs_background": "light"
     },
     "output_type": "display_data"
    },
    {
     "data": {
      "image/png": "[encoded data removed]",
      "text/plain": [
       "<Figure size 432x288 with 1 Axes>"
      ]
     },
     "metadata": {
      "needs_background": "light"
     },
     "output_type": "display_data"
    },
    {
     "data": {
      "image/png": "[encoded data removed]",
      "text/plain": [
       "<Figure size 432x288 with 1 Axes>"
      ]
     },
     "metadata": {
      "needs_background": "light"
     },
     "output_type": "display_data"
    }
   ],
   "source": [
    "# Visualize data distributions\n",
    "colors = ['#5DA5DA', '#FAA43A', '#60BD68']\n",
    "\n",
    "sns.histplot(data=df, x='MATHS', color=colors[0])\n",
    "plt.title('Maths Marks Distribution')\n",
    "plt.show()\n",
    "\n",
    "sns.histplot(data=df, x='SCIENCE', color=colors[1])\n",
    "plt.title('Science Marks Distribution')\n",
    "plt.show()\n",
    "\n",
    "sns.histplot(data=df, x='ENGLISH', color=colors[2])\n",
    "plt.title('English Marks Distribution')\n",
    "plt.show()"
   ]
  },
  {
   "cell_type": "code",
   "execution_count": 14,
   "id": "84ac990d-bfa4-4a40-a2ce-539f41c2a6dd",
   "metadata": {},
   "outputs": [
    {
     "data": {
      "image/png": "[encoded data removed]",
      "text/plain": [
       "<Figure size 432x288 with 1 Axes>"
      ]
     },
     "metadata": {},
     "output_type": "display_data"
    }
   ],
   "source": [
    "# Compute the number of students who passed each subject\n",
    "pass_maths = len(df[df['MATHS'] >= 50])\n",
    "pass_science = len(df[df['SCIENCE'] >= 50])\n",
    "pass_english = len(df[df['ENGLISH'] >= 50])\n",
    "\n",
    "# Create a list of pass counts\n",
    "pass_counts = [pass_maths, pass_science, pass_english]\n",
    "\n",
    "# Create a pie chart\n",
    "labels = ['Maths', 'Science', 'English']\n",
    "plt.pie(pass_counts, labels=labels, autopct='%1.1f%%')\n",
    "plt.title('Pass Percentage by Subject')\n",
    "plt.show()"
   ]
  },
  {
   "cell_type": "code",
   "execution_count": 15,
   "id": "56b1cae4-79c5-42b0-903c-cbb7faa7de18",
   "metadata": {},
   "outputs": [
    {
     "data": {
      "application/vnd.jupyter.widget-view+json": {
       "model_id": "bb93b1c7bb3f44788f813edf28d908b0",
       "version_major": 2,
       "version_minor": 0
      },
      "text/plain": [
       "Summarize dataset:   0%|          | 0/5 [00:00<?, ?it/s]"
      ]
     },
     "metadata": {},
     "output_type": "display_data"
    },
    {
     "data": {
      "application/vnd.jupyter.widget-view+json": {
       "model_id": "64a00bc0dafe43ca828b0a2960c9e9e5",
       "version_major": 2,
       "version_minor": 0
      },
      "text/plain": [
       "Generate report structure:   0%|          | 0/1 [00:00<?, ?it/s]"
      ]
     },
     "metadata": {},
     "output_type": "display_data"
    },
    {
     "data": {
      "application/vnd.jupyter.widget-view+json": {
       "model_id": "a4aa91774a2a4fa598d9d11084be15a7",
       "version_major": 2,
       "version_minor": 0
      },
      "text/plain": [
       "Render HTML:   0%|          | 0/1 [00:00<?, ?it/s]"
      ]
     },
     "metadata": {},
     "output_type": "display_data"
    },
    {
     "data": {
      "application/vnd.jupyter.widget-view+json": {
       "model_id": "7d46c9efc63f4edba001b0a87eba177d",
       "version_major": 2,
       "version_minor": 0
      },
      "text/plain": [
       "Export report to file:   0%|          | 0/1 [00:00<?, ?it/s]"
      ]
     },
     "metadata": {},
     "output_type": "display_data"
    }
   ],
   "source": [
    "# Generate a report using pandas-profiling\n",
    "profile = ydata_profiling.ProfileReport(df)\n",
    "profile.to_file(output_file='student_marks_profile.html')"
   ]
  },
  {
   "cell_type": "code",
   "execution_count": 16,
   "id": "7e843427-078c-43e4-87cb-25ef43a0669b",
   "metadata": {},
   "outputs": [
    {
     "data": {
      "application/vnd.jupyter.widget-view+json": {
       "model_id": "",
       "version_major": 2,
       "version_minor": 0
      },
      "text/plain": [
       "Render widgets:   0%|          | 0/1 [00:00<?, ?it/s]"
      ]
     },
     "metadata": {},
     "output_type": "display_data"
    },
    {
     "data": {
      "application/vnd.jupyter.widget-view+json": {
       "model_id": "2a35488d84bc4f809d90dabe7fdf35ee",
       "version_major": 2,
       "version_minor": 0
      },
      "text/plain": [
       "VBox(children=(Tab(children=(Tab(children=(GridBox(children=(VBox(children=(GridspecLayout(children=(HTML(valu…"
      ]
     },
     "metadata": {},
     "output_type": "display_data"
    }
   ],
   "source": [
    "profile.to_widgets()"
   ]
  },
  {
   "cell_type": "code",
   "execution_count": null,
   "id": "d4a3d512-1069-4c07-a44a-2ba360b9a039",
   "metadata": {},
   "outputs": [],
   "source": []
  }
 ],
 "metadata": {
  "kernelspec": {
   "display_name": "Python 3.9",
   "language": "python",
   "name": "python3"
  },
  "language_info": {
   "codemirror_mode": {
    "name": "ipython",
    "version": 3
   },
   "file_extension": ".py",
   "mimetype": "text/x-python",
   "name": "python",
   "nbconvert_exporter": "python",
   "pygments_lexer": "ipython3",
   "version": "3.9.7"
  }
 },
 "nbformat": 4,
 "nbformat_minor": 5
}
